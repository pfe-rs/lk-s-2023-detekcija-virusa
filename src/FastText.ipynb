{
  "nbformat": 4,
  "nbformat_minor": 0,
  "metadata": {
    "colab": {
      "provenance": []
    },
    "kernelspec": {
      "name": "python3",
      "display_name": "Python 3"
    },
    "language_info": {
      "name": "python"
    }
  },
  "cells": [
    {
      "cell_type": "code",
      "source": [
        "# FastText1(tokens, vector_size=300, window=3, min_count=1, sg=1, workers=2) - 2.3GB ngrams, 554MB vocab\n",
        "# FastText2(tokens, vector_size=100, window=2, min_count=1, sg=1, workers=2) - 763MB ngrams, 185MB vocab\n",
        "# FastText3(tokens, vector_size=100, window=2, min_count=1, sg=1, workers=2) - 229MB ngrams, 56MB vocab\n",
        "# FastText4(tokens, vector_size=300, window=7, min_count=1, sg=1, workers=3, epochs=10) - 2.3GB ngrams, 554MB vocab\n",
        "# FastText5(tokens, vector_size=300, window=7, min_count=1, sg=1, workers=3, epochs=10) - 2.3GB ngrams, ? vocab\n",
        "### New models use improved filter - no binary blobs\n",
        "# FastText6(lines, vector_size=100, window=7, min_count=1, sg=1, workers=8)"
      ],
      "metadata": {
        "id": "eLGVhnzvumk-"
      },
      "execution_count": null,
      "outputs": []
    },
    {
      "cell_type": "code",
      "execution_count": null,
      "metadata": {
        "id": "-p8aqMdvhfsS",
        "colab": {
          "base_uri": "https://localhost:8080/"
        },
        "outputId": "f7538e9c-39a6-4dfc-f623-3a18f21356c0"
      },
      "outputs": [
        {
          "output_type": "stream",
          "name": "stdout",
          "text": [
            " benign_logs_elf.tar.xz   malware_logs_elf.tar.xz   tokens_benign.pkl\t word-embedding-plot.html\n",
            "'Colab Notebooks'\t  PFE-Colab\t\t    tokens_malware.pkl\n"
          ]
        }
      ],
      "source": [
        "!mkdir -p PFE-Colab\n",
        "!ls drive/MyDrive"
      ]
    },
    {
      "cell_type": "code",
      "source": [
        "!cp -v drive/MyDrive/token* PFE-Colab/ 2> /dev/null"
      ],
      "metadata": {
        "id": "b8Vpe_zNwZln",
        "colab": {
          "base_uri": "https://localhost:8080/"
        },
        "outputId": "53eff300-c52f-45d4-9aa1-6ac03bcdcf63"
      },
      "execution_count": null,
      "outputs": [
        {
          "output_type": "stream",
          "name": "stdout",
          "text": [
            "'drive/MyDrive/tokens_benign.pkl' -> 'PFE-Colab/tokens_benign.pkl'\n",
            "'drive/MyDrive/tokens_malware.pkl' -> 'PFE-Colab/tokens_malware.pkl'\n"
          ]
        }
      ]
    },
    {
      "cell_type": "code",
      "source": [
        "from gensim.models.fasttext import FastText\n",
        "import numpy as np\n",
        "import os\n",
        "import pickle\n",
        "os.chdir(\"PFE-Colab\")"
      ],
      "metadata": {
        "id": "hQzd8g0FSlvi"
      },
      "execution_count": null,
      "outputs": []
    },
    {
      "cell_type": "code",
      "source": [
        "# Load tokens\n",
        "# Skip if not training to the next mark #########\n",
        "with open(\"tokens_malware.pkl\", \"rb\") as f:\n",
        "  tokenized_log = pickle.load(f)\n",
        "with open(\"tokens_benign.pkl\", \"rb\") as f:\n",
        "  tokenized_log.extend(pickle.load(f))\n",
        "\n",
        "lines = []\n",
        "for program in tokenized_log:\n",
        "  for line in program:\n",
        "    lines.append(line)\n",
        "print(lines[0])"
      ],
      "metadata": {
        "id": "8XHL-NklTOOo",
        "colab": {
          "base_uri": "https://localhost:8080/"
        },
        "outputId": "14c1d308-8814-4ac5-e612-82e82ab46dba"
      },
      "execution_count": null,
      "outputs": [
        {
          "output_type": "stream",
          "name": "stdout",
          "text": [
            "['execve', 'root_t', 'root_t', 'vars']\n"
          ]
        }
      ]
    },
    {
      "cell_type": "code",
      "source": [
        "!cat ../drive/MyDrive/PFE-Colab/FastText4/init_line.txt"
      ],
      "metadata": {
        "id": "5kSwvja76FjW",
        "colab": {
          "base_uri": "https://localhost:8080/"
        },
        "outputId": "08b753c3-44b7-4ec3-e983-34196c553132"
      },
      "execution_count": null,
      "outputs": [
        {
          "output_type": "stream",
          "name": "stdout",
          "text": [
            "FastText(tokens, vector_size=300, window=7, min_count=1, sg=1, workers=3, epochs=10)\n"
          ]
        }
      ]
    },
    {
      "cell_type": "code",
      "source": [
        "# Train Word2Vec model from scratch\n",
        "model = FastText(lines, vector_size=100, window=7, min_count=1, sg=1, workers=8)"
      ],
      "metadata": {
        "id": "6OXFjopmTF99"
      },
      "execution_count": null,
      "outputs": []
    },
    {
      "cell_type": "code",
      "source": [
        "!mkdir ../drive/MyDrive/PFE-Colab/FastText6\n",
        "model.save(\"../drive/MyDrive/PFE-Colab/FastText6/fasttext_model\")"
      ],
      "metadata": {
        "id": "DMTc7z2tdN-X"
      },
      "execution_count": null,
      "outputs": []
    },
    {
      "cell_type": "code",
      "source": [
        "#############################\n",
        "# Loading existing model\n",
        "model = FastText.load(\"../drive/MyDrive/PFE-Colab/FastText6/fasttext_model\")"
      ],
      "metadata": {
        "id": "BN8IP4mBw25w"
      },
      "execution_count": null,
      "outputs": []
    },
    {
      "cell_type": "code",
      "source": [
        "print(model.wv.most_similar(\"O_WR\", topn=10))"
      ],
      "metadata": {
        "colab": {
          "base_uri": "https://localhost:8080/"
        },
        "id": "CCYl_hNPC1UA",
        "outputId": "be649c67-1d62-4b7e-b9ec-066f9bfaeabf"
      },
      "execution_count": null,
      "outputs": [
        {
          "output_type": "stream",
          "name": "stdout",
          "text": [
            "[('O_EXCL', 0.9533522725105286), ('O_APPEND', 0.9504570364952087), ('O_TRUNC', 0.9453449845314026), ('O_WRONLY', 0.9433786869049072), ('O_DSYNC', 0.9310985803604126), ('O_SYNC', 0.9282472729682922), ('O_CREAT', 0.9164932370185852), ('O_NOCTTY', 0.9006664156913757), ('O_RDWR', 0.896929919719696), ('O_TMPFILE', 0.8963115811347961)]\n"
          ]
        }
      ]
    },
    {
      "cell_type": "code",
      "source": [
        "print(type(model.wv['O_RDONLY']))\n",
        "print(model.wv['O_RDONLY'])"
      ],
      "metadata": {
        "id": "gv-nrCVDX7Z9",
        "colab": {
          "base_uri": "https://localhost:8080/"
        },
        "outputId": "f8bc3b6a-b3dc-4099-d458-59bc0b6bb9ef"
      },
      "execution_count": null,
      "outputs": [
        {
          "output_type": "stream",
          "name": "stdout",
          "text": [
            "<class 'numpy.ndarray'>\n",
            "[-2.9717305e-01 -2.4792473e-01  5.2433308e-02 -2.6727349e-01\n",
            " -2.2384778e-01  9.4107855e-03  3.1849176e-01 -2.7186880e-01\n",
            " -5.6453848e-01 -6.6244590e-01  1.9013955e-01 -1.4224828e-02\n",
            " -1.0665450e-01 -2.2654550e-01 -1.5178244e-01 -8.6618856e-02\n",
            "  4.0594822e-01  1.0949225e+00  6.2265253e-01 -7.7379888e-01\n",
            " -5.7615381e-01  2.4694175e-01 -2.2266722e-01 -1.5969194e-01\n",
            "  1.5248115e-01  1.1211044e+00 -1.0687311e+00  7.8092766e-01\n",
            "  1.4403778e-01  4.9705043e-01  1.3884495e-01  1.0495150e+00\n",
            "  4.1022107e-01  8.3684206e-02  2.3241852e-01  2.9688200e-01\n",
            " -7.4010782e-02  9.9000883e-01  2.0280455e-01  6.0146034e-01\n",
            "  7.3686677e-01  8.8455647e-01 -3.1436333e-01 -5.6850535e-01\n",
            "  3.6756548e-01 -4.7995329e-02  3.9968187e-01  1.6071351e-01\n",
            " -2.5161685e-02 -1.9542086e-01 -1.6731273e-01 -3.7143859e-01\n",
            "  9.1333741e-01  3.4368438e-01  3.1161296e-01  2.6171455e-01\n",
            " -2.2621483e-01  4.0601894e-01  6.2649804e-01 -2.1425352e-01\n",
            "  3.9382365e-01 -2.9762948e-01  5.1088268e-01  4.8939738e-01\n",
            " -5.0807476e-01  3.2375532e-01  5.5384976e-01  1.5412663e-01\n",
            " -3.7592053e-01  8.8253617e-04  1.4445962e+00 -8.2547504e-01\n",
            " -4.5120737e-01  1.4888985e-01  7.1118051e-01 -1.1975693e-01\n",
            "  2.7458029e-02 -5.6258291e-01  1.0051179e+00 -9.2598164e-01\n",
            "  3.4479010e-01 -7.2153956e-01  2.7688211e-03 -6.2346816e-02\n",
            " -8.0351651e-01 -1.6450125e-01 -9.3844160e-02 -3.7055585e-01\n",
            "  8.7058109e-01 -7.9445910e-01  1.2498822e+00 -4.7632700e-01\n",
            "  5.7220030e-01  6.5369135e-01  3.9938283e-01 -2.7837646e-01\n",
            "  2.6232046e-01  4.9349970e-01  2.6302907e-01  5.5392766e-01]\n"
          ]
        }
      ]
    },
    {
      "cell_type": "code",
      "source": [],
      "metadata": {
        "id": "961YR4LBZRiC"
      },
      "execution_count": null,
      "outputs": []
    }
  ]
}